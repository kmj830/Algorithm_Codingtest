{
  "nbformat": 4,
  "nbformat_minor": 0,
  "metadata": {
    "colab": {
      "provenance": []
    },
    "kernelspec": {
      "name": "python3",
      "display_name": "Python 3"
    },
    "language_info": {
      "name": "python"
    }
  },
  "cells": [
    {
      "cell_type": "code",
      "execution_count": null,
      "metadata": {
        "id": "Kj6y-yXrcHTC"
      },
      "outputs": [],
      "source": []
    },
    {
      "cell_type": "markdown",
      "source": [
        "#시간복잡도 표기법\n",
        "\n",
        "시간복잡도 : 주어진 문제를 해결하기 위한 연산 횟수\n",
        "Python 초당 연산 횟수 : 2000만~1억\n",
        "\n",
        "**시간 복잡도 유형**\n",
        "빅-오메가(Ω(n)) : Best-case  \n",
        "빅-세타(Θ(n)) : Average-case  \n",
        "빅-오(O(n)) : Worst-case  \n",
        "\n",
        "*코테에서 사용해야할 표기법은 Big-O\n",
        "\n",
        "*모든 케이스를 통과해야만 합격으로 판단하기 때문에 Worst-case를 염두에 둬야함\n",
        "\n",
        "**시간 복잡도 순서**\n",
        "logn < n < nlog2n < n^2 < 2^n < n!\n",
        "\n",
        "\n",
        "예제) 2750\n",
        "\n",
        "풀이 : 시간 제한이 2초이기 때문에 최대 연산 4000만번  \n",
        "N은 최대 100만  \n",
        "버블정렬 : 시간복잡도가 n^2이기 때문에 시간초과  \n",
        "병합정렬 : 시간복잡도 nlogn이기 때문에 100만 * log10^6 2000만으로 병합정렬로 푸는게 유리함  \n",
        "\n",
        "**코드에서 시간 복잡도 도출 기준**\n",
        "\n",
        "1. 상수는 시간 복잡도 계산에서 제외\n",
        "2. 가장 많이 중첩된 반복문의 수행 횟수가 시간 복잡도의 기준이 된다."
      ],
      "metadata": {
        "id": "Rxe54yrCeHJl"
      }
    }
  ]
}
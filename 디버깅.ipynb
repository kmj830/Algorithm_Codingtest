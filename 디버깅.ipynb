{
  "nbformat": 4,
  "nbformat_minor": 0,
  "metadata": {
    "colab": {
      "provenance": []
    },
    "kernelspec": {
      "name": "python3",
      "display_name": "Python 3"
    },
    "language_info": {
      "name": "python"
    }
  },
  "cells": [
    {
      "cell_type": "markdown",
      "source": [
        "#디버깅\n",
        "\n",
        "디버깅 : 문법 오류나 논리 오류를 찾아 바로잡는 과정\n",
        "1. 문법 오류 : 컴파일러가 자동으로 찾아줌\n",
        "2. 논리 오류 : 코드가 사용자의 의도와 다르게 동작하는 것이며 다양한 형태로 발생됨\n",
        "*** 디버깅은 문제를 풀면서 반드시 해야 하는 과정**  \n",
        "\n",
        "#디버깅 방법\n",
        "1. 코드에서 디버깅하고자 하는 줄에 중단점(breakpoint) 설정 # 중단점은 여러개 설정 가능\n",
        "2. IDE의 디버깅 기능을 실행하면 코드를 1줄씩 실행하거나 다음 중단점까지 실행할 수 있으며, 이 과정에서 추적할 변숫값도 지정할 수 있다. 이 방법으로 변숫값이 자신이 의도한 대로 바뀌는지 파악한다\n",
        "3. 변숫값 이외에도 원하는 수식을 입력해 논리 오류를 파악할 수 있다.\n",
        "\n"
      ],
      "metadata": {
        "id": "PxbKgA0_uB-Y"
      }
    }
  ]
}